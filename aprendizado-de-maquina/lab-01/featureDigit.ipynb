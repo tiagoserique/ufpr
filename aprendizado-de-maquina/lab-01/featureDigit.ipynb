{
  "nbformat": 4,
  "nbformat_minor": 0,
  "metadata": {
    "colab": {
      "name": "featureDigit.ipynb",
      "provenance": [],
      "collapsed_sections": []
    },
    "kernelspec": {
      "name": "python3",
      "display_name": "Python 3"
    }
  },
  "cells": [
    {
      "cell_type": "code",
      "metadata": {
        "id": "wiogyEgvGuBE",
        "outputId": "ad93d87b-bf15-4e6d-9ee7-ed9be9ce98e2",
        "colab": {
          "base_uri": "https://localhost:8080/",
          "height": 122
        }
      },
      "source": [
        "from google.colab import drive\n",
        "drive.mount('/content/drive')"
      ],
      "execution_count": null,
      "outputs": [
        {
          "output_type": "stream",
          "text": [
            "Go to this URL in a browser: https://accounts.google.com/o/oauth2/auth?client_id=947318989803-6bn6qk8qdgf4n4g3pfee6491hc0brc4i.apps.googleusercontent.com&redirect_uri=urn%3aietf%3awg%3aoauth%3a2.0%3aoob&response_type=code&scope=email%20https%3a%2f%2fwww.googleapis.com%2fauth%2fdocs.test%20https%3a%2f%2fwww.googleapis.com%2fauth%2fdrive%20https%3a%2f%2fwww.googleapis.com%2fauth%2fdrive.photos.readonly%20https%3a%2f%2fwww.googleapis.com%2fauth%2fpeopleapi.readonly\n",
            "\n",
            "Enter your authorization code:\n",
            "··········\n",
            "Mounted at /content/drive\n"
          ],
          "name": "stdout"
        }
      ]
    },
    {
      "cell_type": "markdown",
      "metadata": {
        "id": "YagOR0jGZjKw"
      },
      "source": [
        "\n",
        "\n",
        "---\n",
        "\n",
        "Extrai características bastante simples. O vetor de caracterisitca tem o tamanho da imagem (h x l). Se o pixel for preto, a característica tem valor 1, caso contrário, valor 0."
      ]
    },
    {
      "cell_type": "code",
      "metadata": {
        "id": "qrISQTj-NSpB",
        "outputId": "31203b12-ac0d-4c9b-da24-840f251d5a5a",
        "colab": {
          "base_uri": "https://localhost:8080/",
          "height": 68
        }
      },
      "source": [
        "###############################################################################\n",
        "# Dummy Pixels\n",
        "###############################################################################\n",
        "import os\n",
        "import cv2\n",
        "import pandas as pd\n",
        "import progressbar\n",
        "\n",
        "w = 20\n",
        "h = 40\n",
        "\n",
        "X = []\n",
        "y = []\n",
        "\n",
        "listOfImages = []\n",
        "\n",
        "\n",
        "file = '/content/drive/My Drive/Data/digits/files.txt'\n",
        "path = '/content/drive/My Drive/Data/digits'\n",
        "  \n",
        "arq = open(file)\n",
        "lines = arq.readlines()\n",
        "\n",
        "\n",
        "for line in  progressbar.progressbar(lines):\n",
        "  aux = line.split('/')[1]\n",
        "  image_name = aux.split(' ')[0]\n",
        "  label = line.split(' ')[1]\n",
        "  label = label.split('\\n')\n",
        "  \n",
        "  f = path + '/data/' + image_name\n",
        "  #print (f)\n",
        "  \n",
        "  ## opens the image using a single chanel (grey level)\n",
        "  imagem = cv2.imread(f,0)\n",
        "  \n",
        "  listOfImages.append(f)\n",
        "  \n",
        "  ## rezise the image according to the parameters\n",
        "  imagem = cv2.resize(imagem,(h,w))  #### <=====\n",
        "\n",
        "  ## pixel count  \n",
        "  v = []\n",
        "  for i in range(w):\n",
        "    for j in range(h):\n",
        "      if(imagem[i][j] > 128):\n",
        "        v.append(0)\n",
        "      else:\n",
        "        v.append(1)\n",
        "  \n",
        "  X.append(v)\n",
        "  y.append(int(label[0]))\n",
        "      \n",
        "      \n",
        "## Save data\n",
        "\n",
        "            \n",
        "# Saving the extracted features (handcrafted) in a csv file\n",
        "print ('Saving data...')\n",
        "df = pd.DataFrame(X)\n",
        "df.to_csv('X.csv', header=False, index=False)\n",
        "\n",
        "# Saving the classes in a csv file\n",
        "df_class = pd.DataFrame(y)\n",
        "df_class.to_csv('y.csv', header=False, index=False)\n",
        "\n",
        "print ('Done!')"
      ],
      "execution_count": null,
      "outputs": [
        {
          "output_type": "stream",
          "text": [
            "100% (2000 of 2000) |####################| Elapsed Time: 0:23:03 Time:  0:23:03\n"
          ],
          "name": "stderr"
        },
        {
          "output_type": "stream",
          "text": [
            "Saving data...\n",
            "Done!\n"
          ],
          "name": "stdout"
        }
      ]
    },
    {
      "cell_type": "markdown",
      "metadata": {
        "id": "t0-o-o4EZC_d"
      },
      "source": [
        "\n",
        "---\n",
        "Extrai as características utilizando a rede pré-treinada na base ImageNet.\n",
        "\n",
        "---\n",
        "\n"
      ]
    },
    {
      "cell_type": "code",
      "metadata": {
        "id": "qPif1pgmpXg3",
        "outputId": "7b1aac41-cb8a-4580-b47d-acd881e38162",
        "colab": {
          "base_uri": "https://localhost:8080/",
          "height": 72
        }
      },
      "source": [
        "###############################################################################\n",
        "# HOG Features\n",
        "###############################################################################\n",
        "import os\n",
        "import cv2\n",
        "import pandas as pd\n",
        "from skimage import feature\n",
        "from skimage.feature import hog\n",
        "import progressbar\n",
        "\n",
        "\n",
        "w = 256\n",
        "h = 256\n",
        "\n",
        "X = []\n",
        "y = []\n",
        "\n",
        "listOfImages = []\n",
        "\n",
        "\n",
        "file = '/content/drive/My Drive/Data/digits/files.txt'\n",
        "path = '/content/drive/My Drive/Data/digits'\n",
        "  \n",
        "arq = open(file)\n",
        "lines = arq.readlines()\n",
        "\n",
        "for line in  progressbar.progressbar(lines):\n",
        "  aux = line.split('/')[1]\n",
        "  image_name = aux.split(' ')[0]\n",
        "  label = line.split(' ')[1]\n",
        "  label = label.split('\\n')\n",
        "  \n",
        "  f = path + '/data/' + image_name\n",
        "  #print (f)\n",
        "  \n",
        "  ## opens the image using a single chanel (grey level)\n",
        "  imagem = cv2.imread(f,0)\n",
        "  \n",
        "  listOfImages.append(f)\n",
        "  \n",
        "  ## rezise the image according to the parameters\n",
        "  imagem = cv2.resize(imagem,(h,w))  #### <=====\n",
        "\n",
        "  hg = hog(imagem, orientations=8, pixels_per_cell=(32, 32), cells_per_block=(8, 8), block_norm='L2-Hys')\n",
        "\n",
        "  X.append(hg)\n",
        "  y.append(int(label[0]))\n",
        "      \n",
        "            \n",
        "# Saving the extracted features (handcrafted) in a csv file\n",
        "print ('Saving data...')\n",
        "df = pd.DataFrame(X)\n",
        "df.to_csv('X.csv', header=False, index=False)\n",
        "\n",
        "# Saving the classes in a csv file\n",
        "df_class = pd.DataFrame(y)\n",
        "df_class.to_csv('y.csv', header=False, index=False)\n",
        "print ('Done!')"
      ],
      "execution_count": null,
      "outputs": [
        {
          "output_type": "stream",
          "text": [
            "100% (2000 of 2000) |####################| Elapsed Time: 0:00:22 Time:  0:00:22\n"
          ],
          "name": "stderr"
        },
        {
          "output_type": "stream",
          "text": [
            "Saving data...\n",
            "Done!\n"
          ],
          "name": "stdout"
        }
      ]
    },
    {
      "cell_type": "code",
      "metadata": {
        "id": "Wg4Cb-eLsOif"
      },
      "source": [
        "###############################################################################\n",
        "# Deep features\n",
        "###############################################################################\n",
        "import os\n",
        "import cv2\n",
        "import pandas as pd\n",
        "\n",
        "from keras.preprocessing import image\n",
        "from keras.applications.inception_v3 import InceptionV3, preprocess_input\n",
        "from keras.applications.xception import Xception\n",
        "from keras.models import Model\n",
        "from keras.layers import Input\n",
        "\n",
        "w = 256\n",
        "h = 256\n",
        "file = '/content/drive/My Drive/Data/digits/files.txt'\n",
        "path = '/content/drive/My Drive/Data/digits'\n",
        "\n",
        "# Load Inception_v3 pretrained on ImageNet dataset\n",
        "model = InceptionV3(include_top=False, weights='imagenet', pooling='avg', input_tensor=Input(shape=(w,h,3)))\n",
        "\n",
        "\n",
        "X = []  ## features\n",
        "y = []  ## labels\n",
        "\n",
        "listOfImages = []\n",
        "  \n",
        "arq = open(file)\n",
        "lines = arq.readlines()\n",
        "\n",
        "for line in  progressbar.progressbar(lines):\n",
        "  aux = line.split('/')[1]\n",
        "  image_name = aux.split(' ')[0]\n",
        "  label = line.split(' ')[1]\n",
        "  label = label.split('\\n')\n",
        "  \n",
        "  f = path + '/data/' + image_name\n",
        "  \n",
        "  ## opens the image using a single chanel (grey level)\n",
        "  imagem = cv2.imread(f)\n",
        "  \n",
        "  listOfImages.append(f)\n",
        "  \n",
        "  ## rezise the image according to the parameters\n",
        "  imagem = cv2.resize(imagem,(h,w))  #### <=====\n",
        "\n",
        "  # Extract deep features using InceptionV3 pretrained model \n",
        "  img=imagem  \n",
        "  xd = image.img_to_array(img)\n",
        "  xd = np.expand_dims(xd, axis=0)\n",
        "  xd = preprocess_input(xd)\n",
        "  deep_features = model.predict(xd)\n",
        "      \n",
        "  X_image_aux = []\n",
        "  for aux in deep_features:\n",
        "    X_image_aux = np.append(X_image_aux, np.ravel(aux))\n",
        "    \n",
        "  deep_features = [i for i in X_image_aux]\n",
        "      \n",
        "  X.append(deep_features)\n",
        "  y.append(int(label[0]))\n",
        "      \n",
        "      \n",
        "         \n",
        "# Saving the extracted features into a csv file\n",
        "print ('Saving data...')\n",
        "df = pd.DataFrame(X)\n",
        "df.to_csv('X.csv', header=False, index=False)\n",
        "\n",
        "# Saving the classes into  a csv file\n",
        "df_class = pd.DataFrame(y)\n",
        "df_class.to_csv('y.csv', header=False, index=False)\n",
        "print ('Done!')"
      ],
      "execution_count": null,
      "outputs": []
    },
    {
      "cell_type": "code",
      "metadata": {
        "id": "65L91-VKHB3E",
        "outputId": "a8bc0e26-9dfc-4893-9315-6666792d12b6",
        "colab": {
          "base_uri": "https://localhost:8080/",
          "height": 544
        }
      },
      "source": [
        "###############################################################################\n",
        "## Classify using Holdout\n",
        "###############################################################################\n",
        "import pandas as pd\n",
        "import numpy as np\n",
        "from sklearn import  model_selection\n",
        "from sklearn.metrics import confusion_matrix\n",
        "from sklearn.model_selection import train_test_split\n",
        "from sklearn.linear_model import LogisticRegression\n",
        "from sklearn.neighbors import KNeighborsClassifier\n",
        "from sklearn.metrics import classification_report\n",
        "\n",
        "\n",
        "# Labels\n",
        "y = pd.read_csv('y.csv', header=None)\n",
        "y=y.to_numpy()\n",
        "y=np.ravel(y)\n",
        "print(y.shape)\n",
        "\n",
        "# Features\n",
        "X = pd.read_csv('X.csv', header=None)\n",
        "X=X.to_numpy()\n",
        "print(X.shape)\n",
        "\n",
        "X_train, X_test, y_train, y_test = train_test_split(X,y,test_size=.5, random_state=42)\n",
        "\n",
        "# Train the classifier\n",
        "clfa = KNeighborsClassifier(n_neighbors=3, metric='euclidean')\n",
        "#clfa = LogisticRegression(C=1e5, solver='lbfgs', multi_class='multinomial')\n",
        "clfa = clfa.fit(X_train, y_train)\n",
        "\n",
        "# Predict\n",
        "predicted=clfa.predict(X_test)\n",
        "score=clfa.score(X_test, y_test)\n",
        "\n",
        "matrix = confusion_matrix(y_test, predicted)\n",
        "\n",
        "# Print results\n",
        "print(\"Accuracy = %.2f \" % score)\n",
        "print(\"Confusion Matrix:\")\n",
        "print(matrix)\n",
        "\n",
        "print(classification_report(y_test, predicted, labels=[0,1, 2, 3,4,5,6,7,8,9]))"
      ],
      "execution_count": null,
      "outputs": [
        {
          "output_type": "stream",
          "text": [
            "(2000,)\n",
            "(2000, 800)\n",
            "Accuracy = 0.92 \n",
            "Confusion Matrix:\n",
            "[[ 91   0   0   0   0   1   1   0   0   0]\n",
            " [  0 110   2   0   0   0   0   0   0   0]\n",
            " [  2   5  98   0   1   0   0   2   2   0]\n",
            " [  0   0   0  89   0   2   0   0   1   0]\n",
            " [  0   8   0   0  91   0   0   0   0   1]\n",
            " [  1   0   0   5   0  81   1   0   0   0]\n",
            " [  1   1   0   0   1   1  96   0   0   0]\n",
            " [  0   6   0   0   0   0   0  92   0   3]\n",
            " [  3   6   0   5   1   2   0   2  75   3]\n",
            " [  0   0   0   0   4   0   0  10   0  93]]\n",
            "              precision    recall  f1-score   support\n",
            "\n",
            "           0       0.93      0.98      0.95        93\n",
            "           1       0.81      0.98      0.89       112\n",
            "           2       0.98      0.89      0.93       110\n",
            "           3       0.90      0.97      0.93        92\n",
            "           4       0.93      0.91      0.92       100\n",
            "           5       0.93      0.92      0.93        88\n",
            "           6       0.98      0.96      0.97       100\n",
            "           7       0.87      0.91      0.89       101\n",
            "           8       0.96      0.77      0.86        97\n",
            "           9       0.93      0.87      0.90       107\n",
            "\n",
            "    accuracy                           0.92      1000\n",
            "   macro avg       0.92      0.92      0.92      1000\n",
            "weighted avg       0.92      0.92      0.92      1000\n",
            "\n"
          ],
          "name": "stdout"
        }
      ]
    },
    {
      "cell_type": "code",
      "metadata": {
        "id": "WDPRNP03lShu",
        "outputId": "be2c557e-e119-4410-c211-e8550ca669e9",
        "colab": {
          "base_uri": "https://localhost:8080/",
          "height": 1000
        }
      },
      "source": [
        "###############################################################################\n",
        "# Show confusions\n",
        "###############################################################################\n",
        "\n",
        "from google.colab.patches import cv2_imshow\n",
        "\n",
        "print(predicted.shape)\n",
        "print (len(X))\n",
        "for i in range(len(predicted)):\n",
        "\n",
        "  ## Erro...\n",
        "  if (predicted[i] != y_test[i]):\n",
        "      \n",
        "    ### procurar o vetor \n",
        "    for j in range(len(X)):\n",
        "      dist = np.linalg.norm(X[j]-X_test[i]) \n",
        "      if (dist == 0.0):\n",
        "        break\n",
        "      \n",
        "    print (j,listOfImages[j])  \n",
        "    print(\"Label:\", y[j], \" | Prediction:\", predicted[i] )\n",
        "    im=cv2.imread(listOfImages[j])\n",
        "    cv2_imshow(im)\n",
        "\n"
      ],
      "execution_count": null,
      "outputs": [
        {
          "output_type": "stream",
          "text": [
            "(1000,)\n",
            "2000\n",
            "353 /content/drive/My Drive/Data/digits/data/cdf0606_11_11_0.jpg\n",
            "Label: 1  | Prediction: 2\n"
          ],
          "name": "stdout"
        },
        {
          "output_type": "display_data",
          "data": {
            "image/png": "[encoded data removed]",
            "text/plain": [
              "<PIL.Image.Image image mode=RGB size=20x57 at 0x7F3D4C3276D8>"
            ]
          },
          "metadata": {
            "tags": []
          }
        },
        {
          "output_type": "stream",
          "text": [
            "938 /content/drive/My Drive/Data/digits/data/cdf1621_46_8_1.jpg\n",
            "Label: 4  | Prediction: 1\n"
          ],
          "name": "stdout"
        },
        {
          "output_type": "display_data",
          "data": {
            "image/png": "[encoded data removed]",
            "text/plain": [
              "<PIL.Image.Image image mode=RGB size=52x60 at 0x7F3D4C29B470>"
            ]
          },
          "metadata": {
            "tags": []
          }
        },
        {
          "output_type": "stream",
          "text": [
            "1852 /content/drive/My Drive/Data/digits/data/cdf0209_30_24_0.jpg\n",
            "Label: 9  | Prediction: 4\n"
          ],
          "name": "stdout"
        },
        {
          "output_type": "display_data",
          "data": {
            "image/png": "[encoded data removed]",
            "text/plain": [
              "<PIL.Image.Image image mode=RGB size=43x77 at 0x7F3D4C3275F8>"
            ]
          },
          "metadata": {
            "tags": []
          }
        },
        {
          "output_type": "stream",
          "text": [
            "964 /content/drive/My Drive/Data/digits/data/cdf1182_38_9_1.jpg\n",
            "Label: 4  | Prediction: 1\n"
          ],
          "name": "stdout"
        },
        {
          "output_type": "display_data",
          "data": {
            "image/png": "[encoded data removed]",
            "text/plain": [
              "<PIL.Image.Image image mode=RGB size=53x63 at 0x7F3D4C2A32E8>"
            ]
          },
          "metadata": {
            "tags": []
          }
        },
        {
          "output_type": "stream",
          "text": [
            "792 /content/drive/My Drive/Data/digits/data/cdf1485_22_10_5.jpg\n",
            "Label: 3  | Prediction: 5\n"
          ],
          "name": "stdout"
        },
        {
          "output_type": "display_data",
          "data": {
            "image/png": "[encoded data removed]",
            "text/plain": [
              "<PIL.Image.Image image mode=RGB size=50x52 at 0x7F3D4C2A32E8>"
            ]
          },
          "metadata": {
            "tags": []
          }
        },
        {
          "output_type": "stream",
          "text": [
            "1080 /content/drive/My Drive/Data/digits/data/cdf1950_08_4_5.jpg\n",
            "Label: 5  | Prediction: 0\n"
          ],
          "name": "stdout"
        },
        {
          "output_type": "display_data",
          "data": {
            "image/png": "[encoded data removed]",
            "text/plain": [
              "<PIL.Image.Image image mode=RGB size=26x39 at 0x7F3D4C2A32E8>"
            ]
          },
          "metadata": {
            "tags": []
          }
        },
        {
          "output_type": "stream",
          "text": [
            "507 /content/drive/My Drive/Data/digits/data/cdf0767_25_20_1.jpg\n",
            "Label: 2  | Prediction: 8\n"
          ],
          "name": "stdout"
        },
        {
          "output_type": "display_data",
          "data": {
            "image/png": "[encoded data removed]",
            "text/plain": [
              "<PIL.Image.Image image mode=RGB size=36x35 at 0x7F3D4C2A3710>"
            ]
          },
          "metadata": {
            "tags": []
          }
        },
        {
          "output_type": "stream",
          "text": [
            "1696 /content/drive/My Drive/Data/digits/data/cdf0831_15_12_1.jpg\n",
            "Label: 8  | Prediction: 7\n"
          ],
          "name": "stdout"
        },
        {
          "output_type": "display_data",
          "data": {
            "image/png": "[encoded data removed]",
            "text/plain": [
              "<PIL.Image.Image image mode=RGB size=29x44 at 0x7F3D4C2A3780>"
            ]
          },
          "metadata": {
            "tags": []
          }
        },
        {
          "output_type": "stream",
          "text": [
            "1987 /content/drive/My Drive/Data/digits/data/cdf1492_06_13_0.jpg\n",
            "Label: 9  | Prediction: 7\n"
          ],
          "name": "stdout"
        },
        {
          "output_type": "display_data",
          "data": {
            "image/png": "[encoded data removed]",
            "text/plain": [
              "<PIL.Image.Image image mode=RGB size=39x59 at 0x7F3D4C2A3710>"
            ]
          },
          "metadata": {
            "tags": []
          }
        },
        {
          "output_type": "stream",
          "text": [
            "1623 /content/drive/My Drive/Data/digits/data/cdf0360_15_20_2.jpg\n",
            "Label: 8  | Prediction: 3\n"
          ],
          "name": "stdout"
        },
        {
          "output_type": "display_data",
          "data": {
            "image/png": "[encoded data removed]",
            "text/plain": [
              "<PIL.Image.Image image mode=RGB size=28x50 at 0x7F3D4C2A3780>"
            ]
          },
          "metadata": {
            "tags": []
          }
        },
        {
          "output_type": "stream",
          "text": [
            "1729 /content/drive/My Drive/Data/digits/data/cdf1791_04_7_1.jpg\n",
            "Label: 8  | Prediction: 7\n"
          ],
          "name": "stdout"
        },
        {
          "output_type": "display_data",
          "data": {
            "image/png": "[encoded data removed]",
            "text/plain": [
              "<PIL.Image.Image image mode=RGB size=20x37 at 0x7F3D4C2A3710>"
            ]
          },
          "metadata": {
            "tags": []
          }
        },
        {
          "output_type": "stream",
          "text": [
            "1833 /content/drive/My Drive/Data/digits/data/cdf1549_10_16_3.jpg\n",
            "Label: 9  | Prediction: 4\n"
          ],
          "name": "stdout"
        },
        {
          "output_type": "display_data",
          "data": {
            "image/png": "[encoded data removed]",
            "text/plain": [
              "<PIL.Image.Image image mode=RGB size=39x35 at 0x7F3D4C2A3780>"
            ]
          },
          "metadata": {
            "tags": []
          }
        },
        {
          "output_type": "stream",
          "text": [
            "1605 /content/drive/My Drive/Data/digits/data/cdf0185_23_17_1.jpg\n",
            "Label: 8  | Prediction: 1\n"
          ],
          "name": "stdout"
        },
        {
          "output_type": "display_data",
          "data": {
            "image/png": "[encoded data removed]",
            "text/plain": [
              "<PIL.Image.Image image mode=RGB size=32x39 at 0x7F3D4C2A3710>"
            ]
          },
          "metadata": {
            "tags": []
          }
        },
        {
          "output_type": "stream",
          "text": [
            "464 /content/drive/My Drive/Data/digits/data/cdf0005_26_19_1.jpg\n",
            "Label: 2  | Prediction: 4\n"
          ],
          "name": "stdout"
        },
        {
          "output_type": "display_data",
          "data": {
            "image/png": "[encoded data removed]",
            "text/plain": [
              "<PIL.Image.Image image mode=RGB size=65x66 at 0x7F3D4C2A3780>"
            ]
          },
          "metadata": {
            "tags": []
          }
        },
        {
          "output_type": "stream",
          "text": [
            "1699 /content/drive/My Drive/Data/digits/data/cdf1470_34_5_8.jpg\n",
            "Label: 8  | Prediction: 3\n"
          ],
          "name": "stdout"
        },
        {
          "output_type": "display_data",
          "data": {
            "image/png": "[encoded data removed]",
            "text/plain": [
              "<PIL.Image.Image image mode=RGB size=41x53 at 0x7F3D4C327748>"
            ]
          },
          "metadata": {
            "tags": []
          }
        },
        {
          "output_type": "stream",
          "text": [
            "1566 /content/drive/My Drive/Data/digits/data/cdf0909_04_6_1.jpg\n",
            "Label: 7  | Prediction: 1\n"
          ],
          "name": "stdout"
        },
        {
          "output_type": "display_data",
          "data": {
            "image/png": "[encoded data removed]",
            "text/plain": [
              "<PIL.Image.Image image mode=RGB size=39x59 at 0x7F3D4C2A3780>"
            ]
          },
          "metadata": {
            "tags": []
          }
        },
        {
          "output_type": "stream",
          "text": [
            "949 /content/drive/My Drive/Data/digits/data/cdf1508_14_20_2.jpg\n",
            "Label: 4  | Prediction: 1\n"
          ],
          "name": "stdout"
        },
        {
          "output_type": "display_data",
          "data": {
            "image/png": "[encoded data removed]",
            "text/plain": [
              "<PIL.Image.Image image mode=RGB size=61x62 at 0x7F3D4C2A3710>"
            ]
          },
          "metadata": {
            "tags": []
          }
        },
        {
          "output_type": "stream",
          "text": [
            "1640 /content/drive/My Drive/Data/digits/data/cdf1984_28_3_8.jpg\n",
            "Label: 8  | Prediction: 3\n"
          ],
          "name": "stdout"
        },
        {
          "output_type": "display_data",
          "data": {
            "image/png": "[encoded data removed]",
            "text/plain": [
              "<PIL.Image.Image image mode=RGB size=37x37 at 0x7F3D4C2A3780>"
            ]
          },
          "metadata": {
            "tags": []
          }
        },
        {
          "output_type": "stream",
          "text": [
            "834 /content/drive/My Drive/Data/digits/data/cdf1029_30_10_5.jpg\n",
            "Label: 4  | Prediction: 1\n"
          ],
          "name": "stdout"
        },
        {
          "output_type": "display_data",
          "data": {
            "image/png": "[encoded data removed]",
            "text/plain": [
              "<PIL.Image.Image image mode=RGB size=51x53 at 0x7F3D4C2A3748>"
            ]
          },
          "metadata": {
            "tags": []
          }
        },
        {
          "output_type": "stream",
          "text": [
            "1728 /content/drive/My Drive/Data/digits/data/cdf0129_32_14_5.jpg\n",
            "Label: 8  | Prediction: 3\n"
          ],
          "name": "stdout"
        },
        {
          "output_type": "display_data",
          "data": {
            "image/png": "[encoded data removed]",
            "text/plain": [
              "<PIL.Image.Image image mode=RGB size=51x51 at 0x7F3D4C2A3780>"
            ]
          },
          "metadata": {
            "tags": []
          }
        },
        {
          "output_type": "stream",
          "text": [
            "462 /content/drive/My Drive/Data/digits/data/cdf0036_39_8_0.jpg\n",
            "Label: 2  | Prediction: 0\n"
          ],
          "name": "stdout"
        },
        {
          "output_type": "display_data",
          "data": {
            "image/png": "[encoded data removed]",
            "text/plain": [
              "<PIL.Image.Image image mode=RGB size=49x41 at 0x7F3D4C2A3748>"
            ]
          },
          "metadata": {
            "tags": []
          }
        },
        {
          "output_type": "stream",
          "text": [
            "1105 /content/drive/My Drive/Data/digits/data/cdf0077_13_7_2.jpg\n",
            "Label: 5  | Prediction: 3\n"
          ],
          "name": "stdout"
        },
        {
          "output_type": "display_data",
          "data": {
            "image/png": "[encoded data removed]",
            "text/plain": [
              "<PIL.Image.Image image mode=RGB size=45x53 at 0x7F3D4C2A3780>"
            ]
          },
          "metadata": {
            "tags": []
          }
        },
        {
          "output_type": "stream",
          "text": [
            "1335 /content/drive/My Drive/Data/digits/data/cdf1431_47_24_1.jpg\n",
            "Label: 6  | Prediction: 0\n"
          ],
          "name": "stdout"
        },
        {
          "output_type": "display_data",
          "data": {
            "image/png": "[encoded data removed]",
            "text/plain": [
              "<PIL.Image.Image image mode=RGB size=40x44 at 0x7F3D4C327550>"
            ]
          },
          "metadata": {
            "tags": []
          }
        },
        {
          "output_type": "stream",
          "text": [
            "1134 /content/drive/My Drive/Data/digits/data/cdf0103_28_24_2.jpg\n",
            "Label: 5  | Prediction: 3\n"
          ],
          "name": "stdout"
        },
        {
          "output_type": "display_data",
          "data": {
            "image/png": "[encoded data removed]",
            "text/plain": [
              "<PIL.Image.Image image mode=RGB size=45x55 at 0x7F3D4C2A3748>"
            ]
          },
          "metadata": {
            "tags": []
          }
        },
        {
          "output_type": "stream",
          "text": [
            "1654 /content/drive/My Drive/Data/digits/data/cdf0493_05_14_4.jpg\n",
            "Label: 8  | Prediction: 1\n"
          ],
          "name": "stdout"
        },
        {
          "output_type": "display_data",
          "data": {
            "image/png": "[encoded data removed]",
            "text/plain": [
              "<PIL.Image.Image image mode=RGB size=29x53 at 0x7F3D4C2A3780>"
            ]
          },
          "metadata": {
            "tags": []
          }
        },
        {
          "output_type": "stream",
          "text": [
            "552 /content/drive/My Drive/Data/digits/data/cdf0964_10_24_0.jpg\n",
            "Label: 2  | Prediction: 1\n"
          ],
          "name": "stdout"
        },
        {
          "output_type": "display_data",
          "data": {
            "image/png": "[encoded data removed]",
            "text/plain": [
              "<PIL.Image.Image image mode=RGB size=36x37 at 0x7F3D4C2A3748>"
            ]
          },
          "metadata": {
            "tags": []
          }
        },
        {
          "output_type": "stream",
          "text": [
            "432 /content/drive/My Drive/Data/digits/data/cdf1850_16_10_5.jpg\n",
            "Label: 2  | Prediction: 7\n"
          ],
          "name": "stdout"
        },
        {
          "output_type": "display_data",
          "data": {
            "image/png": "[encoded data removed]",
            "text/plain": [
              "<PIL.Image.Image image mode=RGB size=62x37 at 0x7F3D4C2A3780>"
            ]
          },
          "metadata": {
            "tags": []
          }
        },
        {
          "output_type": "stream",
          "text": [
            "1510 /content/drive/My Drive/Data/digits/data/cdf1244_09_28_0.jpg\n",
            "Label: 7  | Prediction: 1\n"
          ],
          "name": "stdout"
        },
        {
          "output_type": "display_data",
          "data": {
            "image/png": "[encoded data removed]",
            "text/plain": [
              "<PIL.Image.Image image mode=RGB size=49x54 at 0x7F3D4C2A3748>"
            ]
          },
          "metadata": {
            "tags": []
          }
        },
        {
          "output_type": "stream",
          "text": [
            "1412 /content/drive/My Drive/Data/digits/data/cdf2022_38_17_4.jpg\n",
            "Label: 7  | Prediction: 1\n"
          ],
          "name": "stdout"
        },
        {
          "output_type": "display_data",
          "data": {
            "image/png": "[encoded data removed]",
            "text/plain": [
              "<PIL.Image.Image image mode=RGB size=21x46 at 0x7F3D4C2A3780>"
            ]
          },
          "metadata": {
            "tags": []
          }
        },
        {
          "output_type": "stream",
          "text": [
            "123 /content/drive/My Drive/Data/digits/data/cdf1103_38_27_1.jpg\n",
            "Label: 0  | Prediction: 6\n"
          ],
          "name": "stdout"
        },
        {
          "output_type": "display_data",
          "data": {
            "image/png": "[encoded data removed]",
            "text/plain": [
              "<PIL.Image.Image image mode=RGB size=24x37 at 0x7F3D4C327780>"
            ]
          },
          "metadata": {
            "tags": []
          }
        },
        {
          "output_type": "stream",
          "text": [
            "1794 /content/drive/My Drive/Data/digits/data/cdf0794_31_11_0.jpg\n",
            "Label: 8  | Prediction: 0\n"
          ],
          "name": "stdout"
        },
        {
          "output_type": "display_data",
          "data": {
            "image/png": "[encoded data removed]",
            "text/plain": [
              "<PIL.Image.Image image mode=RGB size=40x60 at 0x7F3D4C2A3748>"
            ]
          },
          "metadata": {
            "tags": []
          }
        },
        {
          "output_type": "stream",
          "text": [
            "535 /content/drive/My Drive/Data/digits/data/cdf1933_13_9_2.jpg\n",
            "Label: 2  | Prediction: 1\n"
          ],
          "name": "stdout"
        },
        {
          "output_type": "display_data",
          "data": {
            "image/png": "[encoded data removed]",
            "text/plain": [
              "<PIL.Image.Image image mode=RGB size=31x40 at 0x7F3D4C2A3780>"
            ]
          },
          "metadata": {
            "tags": []
          }
        },
        {
          "output_type": "stream",
          "text": [
            "968 /content/drive/My Drive/Data/digits/data/cdf1847_26_24_2.jpg\n",
            "Label: 4  | Prediction: 1\n"
          ],
          "name": "stdout"
        },
        {
          "output_type": "display_data",
          "data": {
            "image/png": "[encoded data removed]",
            "text/plain": [
              "<PIL.Image.Image image mode=RGB size=46x57 at 0x7F3D4C327748>"
            ]
          },
          "metadata": {
            "tags": []
          }
        },
        {
          "output_type": "stream",
          "text": [
            "240 /content/drive/My Drive/Data/digits/data/cdf1948_41_17_4.jpg\n",
            "Label: 1  | Prediction: 2\n"
          ],
          "name": "stdout"
        },
        {
          "output_type": "display_data",
          "data": {
            "image/png": "[encoded data removed]",
            "text/plain": [
              "<PIL.Image.Image image mode=RGB size=25x40 at 0x7F3D4C327550>"
            ]
          },
          "metadata": {
            "tags": []
          }
        },
        {
          "output_type": "stream",
          "text": [
            "1788 /content/drive/My Drive/Data/digits/data/cdf0154_34_3_8.jpg\n",
            "Label: 8  | Prediction: 9\n"
          ],
          "name": "stdout"
        },
        {
          "output_type": "display_data",
          "data": {
            "image/png": "[encoded data removed]",
            "text/plain": [
              "<PIL.Image.Image image mode=RGB size=41x70 at 0x7F3D4C327780>"
            ]
          },
          "metadata": {
            "tags": []
          }
        },
        {
          "output_type": "stream",
          "text": [
            "426 /content/drive/My Drive/Data/digits/data/cdf1701_10_27_1.jpg\n",
            "Label: 2  | Prediction: 7\n"
          ],
          "name": "stdout"
        },
        {
          "output_type": "display_data",
          "data": {
            "image/png": "[encoded data removed]",
            "text/plain": [
              "<PIL.Image.Image image mode=RGB size=37x49 at 0x7F3D4C2A3748>"
            ]
          },
          "metadata": {
            "tags": []
          }
        },
        {
          "output_type": "stream",
          "text": [
            "1869 /content/drive/My Drive/Data/digits/data/cdf0121_11_19_1.jpg\n",
            "Label: 9  | Prediction: 7\n"
          ],
          "name": "stdout"
        },
        {
          "output_type": "display_data",
          "data": {
            "image/png": "[encoded data removed]",
            "text/plain": [
              "<PIL.Image.Image image mode=RGB size=29x57 at 0x7F3D4C2A3828>"
            ]
          },
          "metadata": {
            "tags": []
          }
        },
        {
          "output_type": "stream",
          "text": [
            "1536 /content/drive/My Drive/Data/digits/data/cdf0882_28_22_1.jpg\n",
            "Label: 7  | Prediction: 9\n"
          ],
          "name": "stdout"
        },
        {
          "output_type": "display_data",
          "data": {
            "image/png": "[encoded data removed]",
            "text/plain": [
              "<PIL.Image.Image image mode=RGB size=34x62 at 0x7F3D4C2A3748>"
            ]
          },
          "metadata": {
            "tags": []
          }
        },
        {
          "output_type": "stream",
          "text": [
            "741 /content/drive/My Drive/Data/digits/data/cdf1732_28_5_3.jpg\n",
            "Label: 3  | Prediction: 5\n"
          ],
          "name": "stdout"
        },
        {
          "output_type": "display_data",
          "data": {
            "image/png": "[encoded data removed]",
            "text/plain": [
              "<PIL.Image.Image image mode=RGB size=30x44 at 0x7F3D4C2A3828>"
            ]
          },
          "metadata": {
            "tags": []
          }
        },
        {
          "output_type": "stream",
          "text": [
            "1013 /content/drive/My Drive/Data/digits/data/cdf1681_44_5_5.jpg\n",
            "Label: 5  | Prediction: 3\n"
          ],
          "name": "stdout"
        },
        {
          "output_type": "display_data",
          "data": {
            "image/png": "[encoded data removed]",
            "text/plain": [
              "<PIL.Image.Image image mode=RGB size=34x41 at 0x7F3D4C2A3748>"
            ]
          },
          "metadata": {
            "tags": []
          }
        },
        {
          "output_type": "stream",
          "text": [
            "1356 /content/drive/My Drive/Data/digits/data/cdf1045_35_24_0.jpg\n",
            "Label: 6  | Prediction: 4\n"
          ],
          "name": "stdout"
        },
        {
          "output_type": "display_data",
          "data": {
            "image/png": "[encoded data removed]",
            "text/plain": [
              "<PIL.Image.Image image mode=RGB size=39x54 at 0x7F3D4C2A3828>"
            ]
          },
          "metadata": {
            "tags": []
          }
        },
        {
          "output_type": "stream",
          "text": [
            "936 /content/drive/My Drive/Data/digits/data/cdf1550_34_30_0.jpg\n",
            "Label: 4  | Prediction: 1\n"
          ],
          "name": "stdout"
        },
        {
          "output_type": "display_data",
          "data": {
            "image/png": "[encoded data removed]",
            "text/plain": [
              "<PIL.Image.Image image mode=RGB size=42x47 at 0x7F3D4C327748>"
            ]
          },
          "metadata": {
            "tags": []
          }
        },
        {
          "output_type": "stream",
          "text": [
            "1607 /content/drive/My Drive/Data/digits/data/cdf1343_32_23_0.jpg\n",
            "Label: 8  | Prediction: 3\n"
          ],
          "name": "stdout"
        },
        {
          "output_type": "display_data",
          "data": {
            "image/png": "[encoded data removed]",
            "text/plain": [
              "<PIL.Image.Image image mode=RGB size=36x42 at 0x7F3D4C2A3748>"
            ]
          },
          "metadata": {
            "tags": []
          }
        },
        {
          "output_type": "stream",
          "text": [
            "1743 /content/drive/My Drive/Data/digits/data/cdf1372_35_21_2.jpg\n",
            "Label: 8  | Prediction: 1\n"
          ],
          "name": "stdout"
        },
        {
          "output_type": "display_data",
          "data": {
            "image/png": "[encoded data removed]",
            "text/plain": [
              "<PIL.Image.Image image mode=RGB size=27x43 at 0x7F3D4C2A3828>"
            ]
          },
          "metadata": {
            "tags": []
          }
        },
        {
          "output_type": "stream",
          "text": [
            "465 /content/drive/My Drive/Data/digits/data/cdf1460_02_4_2.jpg\n",
            "Label: 2  | Prediction: 1\n"
          ],
          "name": "stdout"
        },
        {
          "output_type": "display_data",
          "data": {
            "image/png": "[encoded data removed]",
            "text/plain": [
              "<PIL.Image.Image image mode=RGB size=34x37 at 0x7F3D4C2A3748>"
            ]
          },
          "metadata": {
            "tags": []
          }
        },
        {
          "output_type": "stream",
          "text": [
            "1721 /content/drive/My Drive/Data/digits/data/cdf0915_03_4_8.jpg\n",
            "Label: 8  | Prediction: 1\n"
          ],
          "name": "stdout"
        },
        {
          "output_type": "display_data",
          "data": {
            "image/png": "[encoded data removed]",
            "text/plain": [
              "<PIL.Image.Image image mode=RGB size=59x57 at 0x7F3D4C2A3828>"
            ]
          },
          "metadata": {
            "tags": []
          }
        },
        {
          "output_type": "stream",
          "text": [
            "1861 /content/drive/My Drive/Data/digits/data/cdf0138_30_30_4.jpg\n",
            "Label: 9  | Prediction: 7\n"
          ],
          "name": "stdout"
        },
        {
          "output_type": "display_data",
          "data": {
            "image/png": "[encoded data removed]",
            "text/plain": [
              "<PIL.Image.Image image mode=RGB size=33x53 at 0x7F3D4C2A3748>"
            ]
          },
          "metadata": {
            "tags": []
          }
        },
        {
          "output_type": "stream",
          "text": [
            "1455 /content/drive/My Drive/Data/digits/data/cdf1812_15_16_1.jpg\n",
            "Label: 7  | Prediction: 1\n"
          ],
          "name": "stdout"
        },
        {
          "output_type": "display_data",
          "data": {
            "image/png": "[encoded data removed]",
            "text/plain": [
              "<PIL.Image.Image image mode=RGB size=34x57 at 0x7F3D4C327550>"
            ]
          },
          "metadata": {
            "tags": []
          }
        },
        {
          "output_type": "stream",
          "text": [
            "1649 /content/drive/My Drive/Data/digits/data/cdf1856_37_8_2.jpg\n",
            "Label: 8  | Prediction: 1\n"
          ],
          "name": "stdout"
        },
        {
          "output_type": "display_data",
          "data": {
            "image/png": "[encoded data removed]",
            "text/plain": [
              "<PIL.Image.Image image mode=RGB size=26x41 at 0x7F3D4C2A3828>"
            ]
          },
          "metadata": {
            "tags": []
          }
        },
        {
          "output_type": "stream",
          "text": [
            "1857 /content/drive/My Drive/Data/digits/data/cdf2032_22_20_1.jpg\n",
            "Label: 9  | Prediction: 7\n"
          ],
          "name": "stdout"
        },
        {
          "output_type": "display_data",
          "data": {
            "image/png": "[encoded data removed]",
            "text/plain": [
              "<PIL.Image.Image image mode=RGB size=44x53 at 0x7F3D4C2A3748>"
            ]
          },
          "metadata": {
            "tags": []
          }
        },
        {
          "output_type": "stream",
          "text": [
            "1442 /content/drive/My Drive/Data/digits/data/cdf0882_28_9_3.jpg\n",
            "Label: 7  | Prediction: 1\n"
          ],
          "name": "stdout"
        },
        {
          "output_type": "display_data",
          "data": {
            "image/png": "[encoded data removed]",
            "text/plain": [
              "<PIL.Image.Image image mode=RGB size=54x47 at 0x7F3D4C2A3828>"
            ]
          },
          "metadata": {
            "tags": []
          }
        },
        {
          "output_type": "stream",
          "text": [
            "598 /content/drive/My Drive/Data/digits/data/cdf0971_24_19_0.jpg\n",
            "Label: 2  | Prediction: 8\n"
          ],
          "name": "stdout"
        },
        {
          "output_type": "display_data",
          "data": {
            "image/png": "[encoded data removed]",
            "text/plain": [
              "<PIL.Image.Image image mode=RGB size=37x52 at 0x7F3D4C2A3748>"
            ]
          },
          "metadata": {
            "tags": []
          }
        },
        {
          "output_type": "stream",
          "text": [
            "1637 /content/drive/My Drive/Data/digits/data/cdf1629_49_23_1.jpg\n",
            "Label: 8  | Prediction: 9\n"
          ],
          "name": "stdout"
        },
        {
          "output_type": "display_data",
          "data": {
            "image/png": "[encoded data removed]",
            "text/plain": [
              "<PIL.Image.Image image mode=RGB size=31x40 at 0x7F3D4C2A3828>"
            ]
          },
          "metadata": {
            "tags": []
          }
        },
        {
          "output_type": "stream",
          "text": [
            "1040 /content/drive/My Drive/Data/digits/data/cdf0343_35_4_5.jpg\n",
            "Label: 5  | Prediction: 6\n"
          ],
          "name": "stdout"
        },
        {
          "output_type": "display_data",
          "data": {
            "image/png": "[encoded data removed]",
            "text/plain": [
              "<PIL.Image.Image image mode=RGB size=29x37 at 0x7F3D4C2A3748>"
            ]
          },
          "metadata": {
            "tags": []
          }
        },
        {
          "output_type": "stream",
          "text": [
            "1679 /content/drive/My Drive/Data/digits/data/cdf0677_30_29_3.jpg\n",
            "Label: 8  | Prediction: 9\n"
          ],
          "name": "stdout"
        },
        {
          "output_type": "display_data",
          "data": {
            "image/png": "[encoded data removed]",
            "text/plain": [
              "<PIL.Image.Image image mode=RGB size=37x57 at 0x7F3D4C2A3748>"
            ]
          },
          "metadata": {
            "tags": []
          }
        },
        {
          "output_type": "stream",
          "text": [
            "1320 /content/drive/My Drive/Data/digits/data/cdf1664_04_8_1.jpg\n",
            "Label: 6  | Prediction: 5\n"
          ],
          "name": "stdout"
        },
        {
          "output_type": "display_data",
          "data": {
            "image/png": "[encoded data removed]",
            "text/plain": [
              "<PIL.Image.Image image mode=RGB size=35x48 at 0x7F3D4C2A3828>"
            ]
          },
          "metadata": {
            "tags": []
          }
        },
        {
          "output_type": "stream",
          "text": [
            "1812 /content/drive/My Drive/Data/digits/data/cdf1749_23_17_3.jpg\n",
            "Label: 9  | Prediction: 7\n"
          ],
          "name": "stdout"
        },
        {
          "output_type": "display_data",
          "data": {
            "image/png": "[encoded data removed]",
            "text/plain": [
              "<PIL.Image.Image image mode=RGB size=39x42 at 0x7F3D4C327550>"
            ]
          },
          "metadata": {
            "tags": []
          }
        },
        {
          "output_type": "stream",
          "text": [
            "1121 /content/drive/My Drive/Data/digits/data/cdf0264_18_25_1.jpg\n",
            "Label: 5  | Prediction: 3\n"
          ],
          "name": "stdout"
        },
        {
          "output_type": "display_data",
          "data": {
            "image/png": "[encoded data removed]",
            "text/plain": [
              "<PIL.Image.Image image mode=RGB size=37x42 at 0x7F3D4C2A3748>"
            ]
          },
          "metadata": {
            "tags": []
          }
        },
        {
          "output_type": "stream",
          "text": [
            "513 /content/drive/My Drive/Data/digits/data/cdf1363_19_29_2.jpg\n",
            "Label: 2  | Prediction: 1\n"
          ],
          "name": "stdout"
        },
        {
          "output_type": "display_data",
          "data": {
            "image/png": "[encoded data removed]",
            "text/plain": [
              "<PIL.Image.Image image mode=RGB size=42x49 at 0x7F3D4C2A3828>"
            ]
          },
          "metadata": {
            "tags": []
          }
        },
        {
          "output_type": "stream",
          "text": [
            "1688 /content/drive/My Drive/Data/digits/data/cdf1481_35_11_2.jpg\n",
            "Label: 8  | Prediction: 4\n"
          ],
          "name": "stdout"
        },
        {
          "output_type": "display_data",
          "data": {
            "image/png": "[encoded data removed]",
            "text/plain": [
              "<PIL.Image.Image image mode=RGB size=22x36 at 0x7F3D4C327748>"
            ]
          },
          "metadata": {
            "tags": []
          }
        },
        {
          "output_type": "stream",
          "text": [
            "1677 /content/drive/My Drive/Data/digits/data/cdf1863_44_25_2.jpg\n",
            "Label: 8  | Prediction: 0\n"
          ],
          "name": "stdout"
        },
        {
          "output_type": "display_data",
          "data": {
            "image/png": "[encoded data removed]",
            "text/plain": [
              "<PIL.Image.Image image mode=RGB size=39x59 at 0x7F3D4C327550>"
            ]
          },
          "metadata": {
            "tags": []
          }
        },
        {
          "output_type": "stream",
          "text": [
            "1985 /content/drive/My Drive/Data/digits/data/cdf1444_03_10_2.jpg\n",
            "Label: 9  | Prediction: 4\n"
          ],
          "name": "stdout"
        },
        {
          "output_type": "display_data",
          "data": {
            "image/png": "[encoded data removed]",
            "text/plain": [
              "<PIL.Image.Image image mode=RGB size=29x39 at 0x7F3D4C2A3748>"
            ]
          },
          "metadata": {
            "tags": []
          }
        },
        {
          "output_type": "stream",
          "text": [
            "1628 /content/drive/My Drive/Data/digits/data/cdf0685_40_12_2.jpg\n",
            "Label: 8  | Prediction: 1\n"
          ],
          "name": "stdout"
        },
        {
          "output_type": "display_data",
          "data": {
            "image/png": "[encoded data removed]",
            "text/plain": [
              "<PIL.Image.Image image mode=RGB size=31x47 at 0x7F3D4C2A3748>"
            ]
          },
          "metadata": {
            "tags": []
          }
        },
        {
          "output_type": "stream",
          "text": [
            "1538 /content/drive/My Drive/Data/digits/data/cdf1719_12_8_0.jpg\n",
            "Label: 7  | Prediction: 9\n"
          ],
          "name": "stdout"
        },
        {
          "output_type": "display_data",
          "data": {
            "image/png": "[encoded data removed]",
            "text/plain": [
              "<PIL.Image.Image image mode=RGB size=23x53 at 0x7F3D4C327748>"
            ]
          },
          "metadata": {
            "tags": []
          }
        },
        {
          "output_type": "stream",
          "text": [
            "1828 /content/drive/My Drive/Data/digits/data/cdf1609_27_26_4.jpg\n",
            "Label: 9  | Prediction: 7\n"
          ],
          "name": "stdout"
        },
        {
          "output_type": "display_data",
          "data": {
            "image/png": "[encoded data removed]",
            "text/plain": [
              "<PIL.Image.Image image mode=RGB size=30x58 at 0x7F3D4C2A3828>"
            ]
          },
          "metadata": {
            "tags": []
          }
        },
        {
          "output_type": "stream",
          "text": [
            "560 /content/drive/My Drive/Data/digits/data/cdf0952_49_30_0.jpg\n",
            "Label: 2  | Prediction: 1\n"
          ],
          "name": "stdout"
        },
        {
          "output_type": "display_data",
          "data": {
            "image/png": "[encoded data removed]",
            "text/plain": [
              "<PIL.Image.Image image mode=RGB size=53x42 at 0x7F3D4C2A3748>"
            ]
          },
          "metadata": {
            "tags": []
          }
        },
        {
          "output_type": "stream",
          "text": [
            "1630 /content/drive/My Drive/Data/digits/data/cdf1128_24_30_0.jpg\n",
            "Label: 8  | Prediction: 5\n"
          ],
          "name": "stdout"
        },
        {
          "output_type": "display_data",
          "data": {
            "image/png": "[encoded data removed]",
            "text/plain": [
              "<PIL.Image.Image image mode=RGB size=46x56 at 0x7F3D4C2A3828>"
            ]
          },
          "metadata": {
            "tags": []
          }
        },
        {
          "output_type": "stream",
          "text": [
            "812 /content/drive/My Drive/Data/digits/data/cdf0496_09_10_5.jpg\n",
            "Label: 4  | Prediction: 1\n"
          ],
          "name": "stdout"
        },
        {
          "output_type": "display_data",
          "data": {
            "image/png": "[encoded data removed]",
            "text/plain": [
              "<PIL.Image.Image image mode=RGB size=61x47 at 0x7F3D4C2A3748>"
            ]
          },
          "metadata": {
            "tags": []
          }
        },
        {
          "output_type": "stream",
          "text": [
            "1974 /content/drive/My Drive/Data/digits/data/cdf0144_05_18_1.jpg\n",
            "Label: 9  | Prediction: 7\n"
          ],
          "name": "stdout"
        },
        {
          "output_type": "display_data",
          "data": {
            "image/png": "[encoded data removed]",
            "text/plain": [
              "<PIL.Image.Image image mode=RGB size=31x59 at 0x7F3D4C2A3828>"
            ]
          },
          "metadata": {
            "tags": []
          }
        },
        {
          "output_type": "stream",
          "text": [
            "1815 /content/drive/My Drive/Data/digits/data/cdf1826_01_5_9.jpg\n",
            "Label: 9  | Prediction: 7\n"
          ],
          "name": "stdout"
        },
        {
          "output_type": "display_data",
          "data": {
            "image/png": "[encoded data removed]",
            "text/plain": [
              "<PIL.Image.Image image mode=RGB size=27x60 at 0x7F3D4C2A3748>"
            ]
          },
          "metadata": {
            "tags": []
          }
        },
        {
          "output_type": "stream",
          "text": [
            "1175 /content/drive/My Drive/Data/digits/data/cdf2071_28_24_2.jpg\n",
            "Label: 5  | Prediction: 3\n"
          ],
          "name": "stdout"
        },
        {
          "output_type": "display_data",
          "data": {
            "image/png": "[encoded data removed]",
            "text/plain": [
              "<PIL.Image.Image image mode=RGB size=35x56 at 0x7F3D4C2A3828>"
            ]
          },
          "metadata": {
            "tags": []
          }
        },
        {
          "output_type": "stream",
          "text": [
            "865 /content/drive/My Drive/Data/digits/data/cdf1966_31_18_4.jpg\n",
            "Label: 4  | Prediction: 1\n"
          ],
          "name": "stdout"
        },
        {
          "output_type": "display_data",
          "data": {
            "image/png": "[encoded data removed]",
            "text/plain": [
              "<PIL.Image.Image image mode=RGB size=43x62 at 0x7F3D4C2A3748>"
            ]
          },
          "metadata": {
            "tags": []
          }
        },
        {
          "output_type": "stream",
          "text": [
            "410 /content/drive/My Drive/Data/digits/data/cdf0875_02_5_2.jpg\n",
            "Label: 2  | Prediction: 0\n"
          ],
          "name": "stdout"
        },
        {
          "output_type": "display_data",
          "data": {
            "image/png": "[encoded data removed]",
            "text/plain": [
              "<PIL.Image.Image image mode=RGB size=39x41 at 0x7F3D4C2A3828>"
            ]
          },
          "metadata": {
            "tags": []
          }
        },
        {
          "output_type": "stream",
          "text": [
            "668 /content/drive/My Drive/Data/digits/data/cdf1081_19_16_2.jpg\n",
            "Label: 3  | Prediction: 8\n"
          ],
          "name": "stdout"
        },
        {
          "output_type": "display_data",
          "data": {
            "image/png": "[encoded data removed]",
            "text/plain": [
              "<PIL.Image.Image image mode=RGB size=55x53 at 0x7F3D4C2A3748>"
            ]
          },
          "metadata": {
            "tags": []
          }
        },
        {
          "output_type": "stream",
          "text": [
            "1871 /content/drive/My Drive/Data/digits/data/cdf1663_13_25_0.jpg\n",
            "Label: 9  | Prediction: 7\n"
          ],
          "name": "stdout"
        },
        {
          "output_type": "display_data",
          "data": {
            "image/png": "[encoded data removed]",
            "text/plain": [
              "<PIL.Image.Image image mode=RGB size=35x67 at 0x7F3D4C2A3828>"
            ]
          },
          "metadata": {
            "tags": []
          }
        },
        {
          "output_type": "stream",
          "text": [
            "1477 /content/drive/My Drive/Data/digits/data/cdf1378_08_17_2.jpg\n",
            "Label: 7  | Prediction: 9\n"
          ],
          "name": "stdout"
        },
        {
          "output_type": "display_data",
          "data": {
            "image/png": "[encoded data removed]",
            "text/plain": [
              "<PIL.Image.Image image mode=RGB size=25x43 at 0x7F3D4C2A3748>"
            ]
          },
          "metadata": {
            "tags": []
          }
        },
        {
          "output_type": "stream",
          "text": [
            "1338 /content/drive/My Drive/Data/digits/data/cdf1346_08_30_4.jpg\n",
            "Label: 6  | Prediction: 1\n"
          ],
          "name": "stdout"
        },
        {
          "output_type": "display_data",
          "data": {
            "image/png": "[encoded data removed]",
            "text/plain": [
              "<PIL.Image.Image image mode=RGB size=31x44 at 0x7F3D4C2A3828>"
            ]
          },
          "metadata": {
            "tags": []
          }
        },
        {
          "output_type": "stream",
          "text": [
            "1591 /content/drive/My Drive/Data/digits/data/cdf0946_31_29_1.jpg\n",
            "Label: 7  | Prediction: 1\n"
          ],
          "name": "stdout"
        },
        {
          "output_type": "display_data",
          "data": {
            "image/png": "[encoded data removed]",
            "text/plain": [
              "<PIL.Image.Image image mode=RGB size=44x53 at 0x7F3D4C2A3748>"
            ]
          },
          "metadata": {
            "tags": []
          }
        },
        {
          "output_type": "stream",
          "text": [
            "136 /content/drive/My Drive/Data/digits/data/cdf0138_30_30_3.jpg\n",
            "Label: 0  | Prediction: 5\n"
          ],
          "name": "stdout"
        },
        {
          "output_type": "display_data",
          "data": {
            "image/png": "[encoded data removed]",
            "text/plain": [
              "<PIL.Image.Image image mode=RGB size=22x30 at 0x7F3D4C2A3828>"
            ]
          },
          "metadata": {
            "tags": []
          }
        },
        {
          "output_type": "stream",
          "text": [
            "1760 /content/drive/My Drive/Data/digits/data/cdf0536_45_17_2.jpg\n",
            "Label: 8  | Prediction: 0\n"
          ],
          "name": "stdout"
        },
        {
          "output_type": "display_data",
          "data": {
            "image/png": "[encoded data removed]",
            "text/plain": [
              "<PIL.Image.Image image mode=RGB size=35x55 at 0x7F3D4C2A3748>"
            ]
          },
          "metadata": {
            "tags": []
          }
        },
        {
          "output_type": "stream",
          "text": [
            "1799 /content/drive/My Drive/Data/digits/data/cdf0990_06_29_2.jpg\n",
            "Label: 8  | Prediction: 5\n"
          ],
          "name": "stdout"
        },
        {
          "output_type": "display_data",
          "data": {
            "image/png": "[encoded data removed]",
            "text/plain": [
              "<PIL.Image.Image image mode=RGB size=55x72 at 0x7F3D4C2A3828>"
            ]
          },
          "metadata": {
            "tags": []
          }
        },
        {
          "output_type": "stream",
          "text": [
            "893 /content/drive/My Drive/Data/digits/data/cdf2045_15_18_5.jpg\n",
            "Label: 4  | Prediction: 9\n"
          ],
          "name": "stdout"
        },
        {
          "output_type": "display_data",
          "data": {
            "image/png": "[encoded data removed]",
            "text/plain": [
              "<PIL.Image.Image image mode=RGB size=35x62 at 0x7F3D4C2A3748>"
            ]
          },
          "metadata": {
            "tags": []
          }
        },
        {
          "output_type": "stream",
          "text": [
            "1805 /content/drive/My Drive/Data/digits/data/cdf1260_34_14_1.jpg\n",
            "Label: 9  | Prediction: 4\n"
          ],
          "name": "stdout"
        },
        {
          "output_type": "display_data",
          "data": {
            "image/png": "[encoded data removed]",
            "text/plain": [
              "<PIL.Image.Image image mode=RGB size=21x40 at 0x7F3D4C2A3828>"
            ]
          },
          "metadata": {
            "tags": []
          }
        },
        {
          "output_type": "stream",
          "text": [
            "1858 /content/drive/My Drive/Data/digits/data/cdf1951_19_14_4.jpg\n",
            "Label: 9  | Prediction: 7\n"
          ],
          "name": "stdout"
        },
        {
          "output_type": "display_data",
          "data": {
            "image/png": "[encoded data removed]",
            "text/plain": [
              "<PIL.Image.Image image mode=RGB size=35x53 at 0x7F3D4C327780>"
            ]
          },
          "metadata": {
            "tags": []
          }
        }
      ]
    }
  ]
}